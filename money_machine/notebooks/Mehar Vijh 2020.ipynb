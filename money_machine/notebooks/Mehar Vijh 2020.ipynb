{
 "cells": [
  {
   "cell_type": "markdown",
   "id": "7be1f088",
   "metadata": {},
   "source": [
    "# Aims"
   ]
  },
  {
   "cell_type": "markdown",
   "id": "cba559ab",
   "metadata": {},
   "source": [
    "The purpose of this notebook is to reproduce the paper and check how it applies to the present data."
   ]
  },
  {
   "cell_type": "markdown",
   "id": "77cffb5a",
   "metadata": {},
   "source": [
    "## Imports"
   ]
  },
  {
   "cell_type": "code",
   "execution_count": 1,
   "id": "e9db4d98",
   "metadata": {},
   "outputs": [],
   "source": [
    "import pandas_datareader.data as web\n",
    "import datetime as dt"
   ]
  },
  {
   "cell_type": "markdown",
   "id": "3af5a629",
   "metadata": {},
   "source": [
    "# Pick the companies"
   ]
  },
  {
   "cell_type": "code",
   "execution_count": 2,
   "id": "31dc4ff8",
   "metadata": {},
   "outputs": [],
   "source": [
    "companies_to_tickers = {\"Nike\": \"NKE\", \n",
    "                       \"Goldman Sachs\": \"GS\", \n",
    "                       \"Johnson and Johnson\": \"JNJ\", \n",
    "                       \"Pfizer\": \"PFE\",\n",
    "                       \"JP Morgan Chase and Co\": \"JPM\"}"
   ]
  },
  {
   "cell_type": "code",
   "execution_count": 3,
   "id": "c72452d7",
   "metadata": {},
   "outputs": [
    {
     "data": {
      "text/plain": [
       "['NKE', 'GS', 'JNJ', 'PFE', 'JPM']"
      ]
     },
     "execution_count": 3,
     "metadata": {},
     "output_type": "execute_result"
    }
   ],
   "source": [
    "tickers = list(companies_to_tickers.values())\n",
    "tickers"
   ]
  },
  {
   "cell_type": "markdown",
   "id": "edb4447a",
   "metadata": {},
   "source": [
    "# Data"
   ]
  },
  {
   "cell_type": "markdown",
   "id": "87aa1ac4",
   "metadata": {},
   "source": [
    "## Load"
   ]
  },
  {
   "cell_type": "code",
   "execution_count": 4,
   "id": "15b1b4b5",
   "metadata": {},
   "outputs": [],
   "source": [
    "start_train = dt.datetime(2009, 4, 6)\n",
    "end_train = dt.datetime(2017, 4, 3)\n",
    "start_test = dt.datetime(2017, 4, 4)\n",
    "end_test = dt.datetime(2019, 4, 5)"
   ]
  },
  {
   "cell_type": "code",
   "execution_count": 5,
   "id": "e61f15e5",
   "metadata": {},
   "outputs": [],
   "source": [
    "data_train = {ticker: web.DataReader(ticker, \"yahoo\", start_train, end_train)\n",
    "             for ticker in tickers}\n",
    "data_test = {ticker: web.DataReader(ticker, \"yahoo\", start_test, end_test)\n",
    "             for ticker in tickers}"
   ]
  },
  {
   "cell_type": "code",
   "execution_count": 6,
   "id": "7817d0e5",
   "metadata": {},
   "outputs": [
    {
     "name": "stdout",
     "output_type": "stream",
     "text": [
      "NKE\n"
     ]
    },
    {
     "data": {
      "text/html": [
       "<div>\n",
       "<style scoped>\n",
       "    .dataframe tbody tr th:only-of-type {\n",
       "        vertical-align: middle;\n",
       "    }\n",
       "\n",
       "    .dataframe tbody tr th {\n",
       "        vertical-align: top;\n",
       "    }\n",
       "\n",
       "    .dataframe thead th {\n",
       "        text-align: right;\n",
       "    }\n",
       "</style>\n",
       "<table border=\"1\" class=\"dataframe\">\n",
       "  <thead>\n",
       "    <tr style=\"text-align: right;\">\n",
       "      <th></th>\n",
       "      <th>High</th>\n",
       "      <th>Low</th>\n",
       "      <th>Open</th>\n",
       "      <th>Close</th>\n",
       "      <th>Volume</th>\n",
       "      <th>Adj Close</th>\n",
       "    </tr>\n",
       "    <tr>\n",
       "      <th>Date</th>\n",
       "      <th></th>\n",
       "      <th></th>\n",
       "      <th></th>\n",
       "      <th></th>\n",
       "      <th></th>\n",
       "      <th></th>\n",
       "    </tr>\n",
       "  </thead>\n",
       "  <tbody>\n",
       "    <tr>\n",
       "      <th>2009-04-06</th>\n",
       "      <td>12.8750</td>\n",
       "      <td>12.6150</td>\n",
       "      <td>12.8200</td>\n",
       "      <td>12.8175</td>\n",
       "      <td>11080000.0</td>\n",
       "      <td>10.948364</td>\n",
       "    </tr>\n",
       "    <tr>\n",
       "      <th>2009-04-07</th>\n",
       "      <td>12.5950</td>\n",
       "      <td>12.3775</td>\n",
       "      <td>12.5925</td>\n",
       "      <td>12.4650</td>\n",
       "      <td>11580000.0</td>\n",
       "      <td>10.647271</td>\n",
       "    </tr>\n",
       "    <tr>\n",
       "      <th>2009-04-08</th>\n",
       "      <td>12.6550</td>\n",
       "      <td>12.3625</td>\n",
       "      <td>12.4900</td>\n",
       "      <td>12.5600</td>\n",
       "      <td>13103200.0</td>\n",
       "      <td>10.728414</td>\n",
       "    </tr>\n",
       "    <tr>\n",
       "      <th>2009-04-09</th>\n",
       "      <td>13.3750</td>\n",
       "      <td>12.6450</td>\n",
       "      <td>12.8125</td>\n",
       "      <td>13.3175</td>\n",
       "      <td>18044400.0</td>\n",
       "      <td>11.375454</td>\n",
       "    </tr>\n",
       "    <tr>\n",
       "      <th>2009-04-13</th>\n",
       "      <td>13.3675</td>\n",
       "      <td>12.8975</td>\n",
       "      <td>13.1825</td>\n",
       "      <td>13.2800</td>\n",
       "      <td>13202000.0</td>\n",
       "      <td>11.343422</td>\n",
       "    </tr>\n",
       "  </tbody>\n",
       "</table>\n",
       "</div>"
      ],
      "text/plain": [
       "               High      Low     Open    Close      Volume  Adj Close\n",
       "Date                                                                 \n",
       "2009-04-06  12.8750  12.6150  12.8200  12.8175  11080000.0  10.948364\n",
       "2009-04-07  12.5950  12.3775  12.5925  12.4650  11580000.0  10.647271\n",
       "2009-04-08  12.6550  12.3625  12.4900  12.5600  13103200.0  10.728414\n",
       "2009-04-09  13.3750  12.6450  12.8125  13.3175  18044400.0  11.375454\n",
       "2009-04-13  13.3675  12.8975  13.1825  13.2800  13202000.0  11.343422"
      ]
     },
     "execution_count": 6,
     "metadata": {},
     "output_type": "execute_result"
    }
   ],
   "source": [
    "print(tickers[0])\n",
    "data_train[tickers[0]].head()"
   ]
  },
  {
   "cell_type": "markdown",
   "id": "8b38d262",
   "metadata": {},
   "source": [
    "## Add new variables"
   ]
  },
  {
   "cell_type": "code",
   "execution_count": 7,
   "id": "5acc475c",
   "metadata": {},
   "outputs": [],
   "source": [
    "def add_new_vars(data):\n",
    "    for ticker in tickers:\n",
    "        data[ticker][\"H-L\"] = data[ticker][\"High\"] - data[ticker][\"Low\"]\n",
    "        data[ticker][\"O-C\"] = data[ticker][\"Open\"] - data[ticker][\"Close\"]\n",
    "        # Stock price’s seven days’ moving average (7 DAYS MA)\n",
    "        # there is not explicitly said of what\n",
    "        # so let's assume that it would be of the close price\n",
    "        data[ticker][\"MA-7d\"] = data[ticker][\"Close\"].rolling(window=7).mean()\n",
    "        data[ticker][\"MA-14d\"] = data[ticker][\"Close\"].rolling(window=14).mean()\n",
    "        data[ticker][\"MA-21d\"] = data[ticker][\"Close\"].rolling(window=21).mean()\n",
    "        data[ticker][\"std-7d\"] = data[ticker][\"Close\"].rolling(window=7).std()"
   ]
  },
  {
   "cell_type": "code",
   "execution_count": 8,
   "id": "8259e5b4",
   "metadata": {},
   "outputs": [],
   "source": [
    "add_new_vars(data_train)\n",
    "add_new_vars(data_test)"
   ]
  },
  {
   "cell_type": "markdown",
   "id": "4fc5ecc4",
   "metadata": {},
   "source": [
    "# Model"
   ]
  },
  {
   "cell_type": "markdown",
   "id": "1d68c3f9",
   "metadata": {},
   "source": [
    "## Artificial Neural Network"
   ]
  },
  {
   "cell_type": "markdown",
   "id": "7c496d85",
   "metadata": {},
   "source": [
    "Since the detailed descritption is not provided about the training I'll infer the architecture from the model image and adjust the training time (epochs) and other hyperparams according to my preference."
   ]
  },
  {
   "cell_type": "code",
   "execution_count": 9,
   "id": "70ef7cbf",
   "metadata": {},
   "outputs": [],
   "source": [
    "import tensorflow as tf\n",
    "from tensorflow.keras import Sequential\n",
    "from tensorflow.keras.layers import Dense, Input"
   ]
  },
  {
   "cell_type": "code",
   "execution_count": 10,
   "id": "d70686a8",
   "metadata": {},
   "outputs": [
    {
     "name": "stderr",
     "output_type": "stream",
     "text": [
      "2021-12-25 02:59:44.002710: I tensorflow/core/platform/cpu_feature_guard.cc:151] This TensorFlow binary is optimized with oneAPI Deep Neural Network Library (oneDNN) to use the following CPU instructions in performance-critical operations:  AVX2 FMA\n",
      "To enable them in other operations, rebuild TensorFlow with the appropriate compiler flags.\n"
     ]
    }
   ],
   "source": [
    "model = Sequential()\n",
    "model.add(Input(shape=(7,)))\n",
    "model.add(Dense(3))\n",
    "model.add(Dense(1))"
   ]
  },
  {
   "cell_type": "code",
   "execution_count": 11,
   "id": "028828e3",
   "metadata": {},
   "outputs": [
    {
     "name": "stdout",
     "output_type": "stream",
     "text": [
      "Model: \"sequential\"\n",
      "_________________________________________________________________\n",
      " Layer (type)                Output Shape              Param #   \n",
      "=================================================================\n",
      " dense (Dense)               (None, 3)                 24        \n",
      "                                                                 \n",
      " dense_1 (Dense)             (None, 1)                 4         \n",
      "                                                                 \n",
      "=================================================================\n",
      "Total params: 28\n",
      "Trainable params: 28\n",
      "Non-trainable params: 0\n",
      "_________________________________________________________________\n"
     ]
    }
   ],
   "source": [
    "model.summary()"
   ]
  },
  {
   "cell_type": "code",
   "execution_count": 12,
   "id": "a9dc3d76",
   "metadata": {},
   "outputs": [],
   "source": [
    "model.compile(optimizer=\"sgd\", loss='mse')"
   ]
  }
 ],
 "metadata": {
  "kernelspec": {
   "display_name": "Python 3 (ipykernel)",
   "language": "python",
   "name": "python3"
  },
  "language_info": {
   "codemirror_mode": {
    "name": "ipython",
    "version": 3
   },
   "file_extension": ".py",
   "mimetype": "text/x-python",
   "name": "python",
   "nbconvert_exporter": "python",
   "pygments_lexer": "ipython3",
   "version": "3.9.7"
  }
 },
 "nbformat": 4,
 "nbformat_minor": 5
}

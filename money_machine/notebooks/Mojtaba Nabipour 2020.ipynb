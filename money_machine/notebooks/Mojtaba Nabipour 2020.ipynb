{
 "cells": [
  {
   "cell_type": "markdown",
   "id": "1540ad77",
   "metadata": {},
   "source": [
    "# 7-day ahead prediction stock price prediction"
   ]
  },
  {
   "cell_type": "markdown",
   "id": "8abd2b9b",
   "metadata": {},
   "source": [
    "# Aims"
   ]
  },
  {
   "cell_type": "markdown",
   "id": "00816101",
   "metadata": {},
   "source": [
    "Reproduce the article. Version with the imported python code."
   ]
  },
  {
   "cell_type": "markdown",
   "id": "7906b5e6",
   "metadata": {},
   "source": [
    "# Imports"
   ]
  },
  {
   "cell_type": "code",
   "execution_count": 1,
   "id": "81b11f7b",
   "metadata": {},
   "outputs": [],
   "source": [
    "%load_ext autoreload\n",
    "%autoreload 2"
   ]
  },
  {
   "cell_type": "code",
   "execution_count": 2,
   "id": "4aca0780",
   "metadata": {},
   "outputs": [],
   "source": [
    "import sys\n",
    "sys.path.append(\"./../..\")"
   ]
  },
  {
   "cell_type": "code",
   "execution_count": 3,
   "id": "bd596c44",
   "metadata": {},
   "outputs": [],
   "source": [
    "import datetime as dt"
   ]
  },
  {
   "cell_type": "code",
   "execution_count": 4,
   "id": "e5a781b3",
   "metadata": {},
   "outputs": [],
   "source": [
    "from money_machine.data.dataset import load_data, add_ta_data, append_y, drop_nans, divide_test_train, divide_X_y"
   ]
  },
  {
   "cell_type": "code",
   "execution_count": 5,
   "id": "bb34d673",
   "metadata": {},
   "outputs": [],
   "source": [
    "from money_machine.models.single_layer_LSTM import SingleLayerLSTM\n",
    "from money_machine.models.manager import Manager\n",
    "from money_machine.visualization.stock import plot_stock"
   ]
  },
  {
   "cell_type": "markdown",
   "id": "676c9abf",
   "metadata": {},
   "source": [
    "# Data"
   ]
  },
  {
   "cell_type": "code",
   "execution_count": 6,
   "id": "429672aa",
   "metadata": {},
   "outputs": [],
   "source": [
    "ticker = \"NKE\""
   ]
  },
  {
   "cell_type": "code",
   "execution_count": 7,
   "id": "a5836bb1",
   "metadata": {},
   "outputs": [],
   "source": [
    "start_train = dt.datetime(2009, 4, 6)\n",
    "end_train = dt.datetime(2020, 12, 4)\n",
    "start_test = end_train\n",
    "end_test = dt.datetime(2021, 12, 20)\n",
    "data = load_data([ticker], start_train, end_test)[ticker]"
   ]
  },
  {
   "cell_type": "code",
   "execution_count": 8,
   "id": "ca9b4862",
   "metadata": {},
   "outputs": [],
   "source": [
    "data = add_ta_data(data, 14)"
   ]
  },
  {
   "cell_type": "code",
   "execution_count": 9,
   "id": "99984e40",
   "metadata": {},
   "outputs": [],
   "source": [
    "n_ahead = 7"
   ]
  },
  {
   "cell_type": "code",
   "execution_count": 10,
   "id": "a927add7",
   "metadata": {},
   "outputs": [],
   "source": [
    "data = append_y(data, n_ahead)"
   ]
  },
  {
   "cell_type": "code",
   "execution_count": 11,
   "id": "65433a5e",
   "metadata": {},
   "outputs": [],
   "source": [
    "data = drop_nans(data)"
   ]
  },
  {
   "cell_type": "code",
   "execution_count": 12,
   "id": "bd626d4c",
   "metadata": {},
   "outputs": [],
   "source": [
    "data_train, data_test = divide_test_train(data, end_train)"
   ]
  },
  {
   "cell_type": "code",
   "execution_count": 13,
   "id": "451d1df2",
   "metadata": {},
   "outputs": [],
   "source": [
    "train_X, train_y = divide_X_y(data_train)"
   ]
  },
  {
   "cell_type": "code",
   "execution_count": 14,
   "id": "6599e558",
   "metadata": {},
   "outputs": [],
   "source": [
    "test_X, test_y = divide_X_y(data_test)"
   ]
  },
  {
   "cell_type": "markdown",
   "id": "2df9e8f6",
   "metadata": {},
   "source": [
    "# Model"
   ]
  },
  {
   "cell_type": "code",
   "execution_count": 15,
   "id": "aab7072b",
   "metadata": {},
   "outputs": [
    {
     "name": "stderr",
     "output_type": "stream",
     "text": [
      "2021-12-27 22:36:04.178554: I tensorflow/core/platform/cpu_feature_guard.cc:151] This TensorFlow binary is optimized with oneAPI Deep Neural Network Library (oneDNN) to use the following CPU instructions in performance-critical operations:  AVX2 FMA\n",
      "To enable them in other operations, rebuild TensorFlow with the appropriate compiler flags.\n"
     ]
    }
   ],
   "source": [
    "single_lstm_config_paht = \"./../../configs/single_layer_LSTM.yaml\"\n",
    "single_lstm = SingleLayerLSTM(single_lstm_config_paht)"
   ]
  },
  {
   "cell_type": "code",
   "execution_count": 16,
   "id": "49e48abc",
   "metadata": {
    "scrolled": true
   },
   "outputs": [],
   "source": [
    "train_config_path = \"./../../configs/train_config_single_layer_LSTM.yaml\"\n",
    "single_lstm_manager = Manager(single_lstm, train_config_path)"
   ]
  },
  {
   "cell_type": "code",
   "execution_count": 17,
   "id": "94f8db55",
   "metadata": {},
   "outputs": [],
   "source": [
    "single_lstm_manager.set_train(train_X, train_y)\n",
    "single_lstm_manager.set_test(test_X, test_y)"
   ]
  },
  {
   "cell_type": "code",
   "execution_count": 18,
   "id": "d5799cea",
   "metadata": {},
   "outputs": [],
   "source": [
    "single_lstm_manager.scale_X_y()"
   ]
  },
  {
   "cell_type": "code",
   "execution_count": 19,
   "id": "a0e59199",
   "metadata": {},
   "outputs": [],
   "source": [
    "single_lstm_manager.compile()"
   ]
  },
  {
   "cell_type": "code",
   "execution_count": 20,
   "id": "692b5688",
   "metadata": {},
   "outputs": [],
   "source": [
    "single_lstm_manager.expand_dim_to_3()"
   ]
  },
  {
   "cell_type": "code",
   "execution_count": 21,
   "id": "7c70d2a0",
   "metadata": {
    "scrolled": true
   },
   "outputs": [
    {
     "name": "stdout",
     "output_type": "stream",
     "text": [
      "Epoch 1/50\n",
      "91/91 [==============================] - 1s 2ms/step - loss: 0.0011\n",
      "Epoch 2/50\n",
      "91/91 [==============================] - 0s 2ms/step - loss: 0.0075\n",
      "Epoch 3/50\n",
      "91/91 [==============================] - 0s 2ms/step - loss: 9.2284e-04\n",
      "Epoch 4/50\n",
      "91/91 [==============================] - 0s 2ms/step - loss: 4.3985e-04\n",
      "Epoch 5/50\n",
      "91/91 [==============================] - 0s 2ms/step - loss: 4.5322e-04\n",
      "Epoch 6/50\n",
      "91/91 [==============================] - 0s 2ms/step - loss: 4.2240e-04\n",
      "Epoch 7/50\n",
      "91/91 [==============================] - 0s 2ms/step - loss: 4.4195e-04\n",
      "Epoch 8/50\n",
      "91/91 [==============================] - 0s 2ms/step - loss: 4.6166e-04\n",
      "Epoch 9/50\n",
      "91/91 [==============================] - 0s 2ms/step - loss: 4.7725e-04\n",
      "Epoch 10/50\n",
      "91/91 [==============================] - 0s 2ms/step - loss: 4.9007e-04\n",
      "Epoch 11/50\n",
      "91/91 [==============================] - 0s 2ms/step - loss: 5.0246e-04\n",
      "Epoch 12/50\n",
      "91/91 [==============================] - 0s 1ms/step - loss: 5.1453e-04\n",
      "Epoch 13/50\n",
      "91/91 [==============================] - 0s 2ms/step - loss: 5.2616e-04\n",
      "Epoch 14/50\n",
      "91/91 [==============================] - 0s 2ms/step - loss: 5.3724e-04\n",
      "Epoch 15/50\n",
      "91/91 [==============================] - 0s 2ms/step - loss: 5.4750e-04\n",
      "Epoch 16/50\n",
      "91/91 [==============================] - 0s 2ms/step - loss: 5.5658e-04\n",
      "Epoch 17/50\n",
      "91/91 [==============================] - 0s 2ms/step - loss: 5.6408e-04\n",
      "Epoch 18/50\n",
      "91/91 [==============================] - 0s 2ms/step - loss: 5.6961e-04\n",
      "Epoch 19/50\n",
      "91/91 [==============================] - 0s 2ms/step - loss: 5.7289e-04\n",
      "Epoch 20/50\n",
      "91/91 [==============================] - 0s 2ms/step - loss: 5.7384e-04\n",
      "Epoch 21/50\n",
      "91/91 [==============================] - 0s 2ms/step - loss: 5.7260e-04\n",
      "Epoch 22/50\n",
      "91/91 [==============================] - 0s 2ms/step - loss: 5.6953e-04\n",
      "Epoch 23/50\n",
      "91/91 [==============================] - 0s 2ms/step - loss: 5.6514e-04\n",
      "Epoch 24/50\n",
      "91/91 [==============================] - 0s 1ms/step - loss: 5.5998e-04\n",
      "Epoch 25/50\n",
      "91/91 [==============================] - 0s 2ms/step - loss: 5.5455e-04\n",
      "Epoch 26/50\n",
      "91/91 [==============================] - 0s 2ms/step - loss: 5.4920e-04\n",
      "Epoch 27/50\n",
      "91/91 [==============================] - 0s 2ms/step - loss: 5.4417e-04\n",
      "Epoch 28/50\n",
      "91/91 [==============================] - 0s 2ms/step - loss: 5.3957e-04\n",
      "Epoch 29/50\n",
      "91/91 [==============================] - 0s 2ms/step - loss: 5.3543e-04\n",
      "Epoch 30/50\n",
      "91/91 [==============================] - 0s 1ms/step - loss: 5.3173e-04\n",
      "Epoch 31/50\n",
      "91/91 [==============================] - 0s 2ms/step - loss: 5.2842e-04\n",
      "Epoch 32/50\n",
      "91/91 [==============================] - 0s 2ms/step - loss: 5.2544e-04\n",
      "Epoch 33/50\n",
      "91/91 [==============================] - 0s 2ms/step - loss: 5.2275e-04\n",
      "Epoch 34/50\n",
      "91/91 [==============================] - 0s 2ms/step - loss: 5.2029e-04\n",
      "Epoch 35/50\n",
      "91/91 [==============================] - 0s 2ms/step - loss: 5.1801e-04\n",
      "Epoch 36/50\n",
      "91/91 [==============================] - 0s 2ms/step - loss: 5.1589e-04\n",
      "Epoch 37/50\n",
      "91/91 [==============================] - 0s 2ms/step - loss: 5.1390e-04\n",
      "Epoch 38/50\n",
      "91/91 [==============================] - 0s 2ms/step - loss: 5.1200e-04\n",
      "Epoch 39/50\n",
      "91/91 [==============================] - 0s 2ms/step - loss: 5.1019e-04\n",
      "Epoch 40/50\n",
      "91/91 [==============================] - 0s 2ms/step - loss: 5.0844e-04\n",
      "Epoch 41/50\n",
      "91/91 [==============================] - 0s 2ms/step - loss: 5.0675e-04\n",
      "Epoch 42/50\n",
      "91/91 [==============================] - 0s 2ms/step - loss: 5.0511e-04\n",
      "Epoch 43/50\n",
      "91/91 [==============================] - 0s 2ms/step - loss: 5.0351e-04\n",
      "Epoch 44/50\n",
      "91/91 [==============================] - 0s 2ms/step - loss: 5.0195e-04\n",
      "Epoch 45/50\n",
      "91/91 [==============================] - 0s 2ms/step - loss: 5.0043e-04\n",
      "Epoch 46/50\n",
      "91/91 [==============================] - 0s 2ms/step - loss: 4.9894e-04\n",
      "Epoch 47/50\n",
      "91/91 [==============================] - 0s 2ms/step - loss: 4.9748e-04\n",
      "Epoch 48/50\n",
      "91/91 [==============================] - 0s 2ms/step - loss: 4.9605e-04\n",
      "Epoch 49/50\n",
      "91/91 [==============================] - 0s 1ms/step - loss: 4.9466e-04\n",
      "Epoch 50/50\n",
      "91/91 [==============================] - 0s 2ms/step - loss: 4.9329e-04\n"
     ]
    }
   ],
   "source": [
    "single_lstm_manager.train()"
   ]
  },
  {
   "cell_type": "code",
   "execution_count": 22,
   "id": "04af34dc",
   "metadata": {},
   "outputs": [
    {
     "name": "stdout",
     "output_type": "stream",
     "text": [
      "mae: 6.742958307266235\n",
      "mape: 0.04622190642045981\n",
      "mse: 68.63915115727468\n"
     ]
    }
   ],
   "source": [
    "single_lstm_manager.predict()\n",
    "single_lstm_manager.evaluate()\n",
    "single_lstm_manager.print_eval()"
   ]
  },
  {
   "cell_type": "markdown",
   "id": "96abdac6",
   "metadata": {},
   "source": [
    "# Visualize"
   ]
  },
  {
   "cell_type": "code",
   "execution_count": 23,
   "id": "19198a5b",
   "metadata": {},
   "outputs": [
    {
     "data": {
      "image/png": "[encoded data removed]",
      "text/plain": [
       "<Figure size 1152x648 with 1 Axes>"
      ]
     },
     "metadata": {
      "needs_background": "light"
     },
     "output_type": "display_data"
    }
   ],
   "source": [
    "single_lstm_manager.visualize(n_ahead)"
   ]
  },
  {
   "cell_type": "code",
   "execution_count": 24,
   "id": "934fd200",
   "metadata": {},
   "outputs": [
    {
     "data": {
      "text/html": [
       "<div>\n",
       "<style scoped>\n",
       "    .dataframe tbody tr th:only-of-type {\n",
       "        vertical-align: middle;\n",
       "    }\n",
       "\n",
       "    .dataframe tbody tr th {\n",
       "        vertical-align: top;\n",
       "    }\n",
       "\n",
       "    .dataframe thead th {\n",
       "        text-align: right;\n",
       "    }\n",
       "</style>\n",
       "<table border=\"1\" class=\"dataframe\">\n",
       "  <thead>\n",
       "    <tr style=\"text-align: right;\">\n",
       "      <th></th>\n",
       "      <th>y</th>\n",
       "    </tr>\n",
       "    <tr>\n",
       "      <th>Date</th>\n",
       "      <th></th>\n",
       "    </tr>\n",
       "  </thead>\n",
       "  <tbody>\n",
       "    <tr>\n",
       "      <th>2020-12-04</th>\n",
       "      <td>139.389999</td>\n",
       "    </tr>\n",
       "    <tr>\n",
       "      <th>2020-12-07</th>\n",
       "      <td>138.339996</td>\n",
       "    </tr>\n",
       "    <tr>\n",
       "      <th>2020-12-08</th>\n",
       "      <td>140.500000</td>\n",
       "    </tr>\n",
       "    <tr>\n",
       "      <th>2020-12-09</th>\n",
       "      <td>137.279999</td>\n",
       "    </tr>\n",
       "    <tr>\n",
       "      <th>2020-12-10</th>\n",
       "      <td>144.020004</td>\n",
       "    </tr>\n",
       "    <tr>\n",
       "      <th>...</th>\n",
       "      <td>...</td>\n",
       "    </tr>\n",
       "    <tr>\n",
       "      <th>2021-12-03</th>\n",
       "      <td>165.399994</td>\n",
       "    </tr>\n",
       "    <tr>\n",
       "      <th>2021-12-06</th>\n",
       "      <td>163.899994</td>\n",
       "    </tr>\n",
       "    <tr>\n",
       "      <th>2021-12-07</th>\n",
       "      <td>162.720001</td>\n",
       "    </tr>\n",
       "    <tr>\n",
       "      <th>2021-12-08</th>\n",
       "      <td>161.360001</td>\n",
       "    </tr>\n",
       "    <tr>\n",
       "      <th>2021-12-09</th>\n",
       "      <td>156.979996</td>\n",
       "    </tr>\n",
       "  </tbody>\n",
       "</table>\n",
       "<p>256 rows × 1 columns</p>\n",
       "</div>"
      ],
      "text/plain": [
       "                     y\n",
       "Date                  \n",
       "2020-12-04  139.389999\n",
       "2020-12-07  138.339996\n",
       "2020-12-08  140.500000\n",
       "2020-12-09  137.279999\n",
       "2020-12-10  144.020004\n",
       "...                ...\n",
       "2021-12-03  165.399994\n",
       "2021-12-06  163.899994\n",
       "2021-12-07  162.720001\n",
       "2021-12-08  161.360001\n",
       "2021-12-09  156.979996\n",
       "\n",
       "[256 rows x 1 columns]"
      ]
     },
     "execution_count": 24,
     "metadata": {},
     "output_type": "execute_result"
    }
   ],
   "source": [
    "single_lstm_manager.y_test_pd"
   ]
  },
  {
   "cell_type": "code",
   "execution_count": 25,
   "id": "d3024ca6",
   "metadata": {},
   "outputs": [
    {
     "data": {
      "text/plain": [
       "array([[143.26387],\n",
       "       [144.07236],\n",
       "       [144.0943 ],\n",
       "       [144.31381],\n",
       "       [142.91861],\n",
       "       [142.73007],\n",
       "       [141.23535],\n",
       "       [144.60374],\n",
       "       [143.50958],\n",
       "       [145.8762 ],\n",
       "       [142.22868],\n",
       "       [148.30363],\n",
       "       [147.40225],\n",
       "       [146.44794],\n",
       "       [146.57332],\n",
       "       [147.53577],\n",
       "       [146.71063],\n",
       "       [146.77704],\n",
       "       [147.07275],\n",
       "       [145.84975],\n",
       "       [146.61313],\n",
       "       [147.52925],\n",
       "       [150.10426],\n",
       "       [151.29173],\n",
       "       [152.63971],\n",
       "       [149.74213],\n",
       "       [147.91653],\n",
       "       [146.17586],\n",
       "       [145.13382],\n",
       "       [143.87544],\n",
       "       [147.56532],\n",
       "       [146.5763 ],\n",
       "       [144.13116],\n",
       "       [142.97504],\n",
       "       [140.84338],\n",
       "       [136.72334],\n",
       "       [139.37437],\n",
       "       [138.28014],\n",
       "       [140.31267],\n",
       "       [144.34169],\n",
       "       [144.12242],\n",
       "       [146.37665],\n",
       "       [150.03476],\n",
       "       [149.49957],\n",
       "       [147.44827],\n",
       "       [148.501  ],\n",
       "       [149.74803],\n",
       "       [148.83284],\n",
       "       [148.92268],\n",
       "       [151.23642],\n",
       "       [152.1104 ],\n",
       "       [149.84578],\n",
       "       [144.19814],\n",
       "       [141.97028],\n",
       "       [141.80501],\n",
       "       [141.56812],\n",
       "       [139.89331],\n",
       "       [142.7512 ],\n",
       "       [142.61069],\n",
       "       [139.7541 ],\n",
       "       [137.52774],\n",
       "       [138.52972],\n",
       "       [139.76974],\n",
       "       [140.65436],\n",
       "       [142.4825 ],\n",
       "       [146.38086],\n",
       "       [146.94725],\n",
       "       [150.24709],\n",
       "       [151.12189],\n",
       "       [151.33644],\n",
       "       [150.21472],\n",
       "       [144.08177],\n",
       "       [144.85811],\n",
       "       [144.35902],\n",
       "       [140.65309],\n",
       "       [135.363  ],\n",
       "       [139.75049],\n",
       "       [140.20145],\n",
       "       [139.43771],\n",
       "       [138.69336],\n",
       "       [138.50534],\n",
       "       [139.93738],\n",
       "       [141.95801],\n",
       "       [141.27979],\n",
       "       [139.58348],\n",
       "       [141.81029],\n",
       "       [142.99226],\n",
       "       [139.9844 ],\n",
       "       [139.19704],\n",
       "       [140.71251],\n",
       "       [140.97318],\n",
       "       [138.75163],\n",
       "       [134.36162],\n",
       "       [136.60141],\n",
       "       [136.10925],\n",
       "       [136.44415],\n",
       "       [137.61629],\n",
       "       [138.239  ],\n",
       "       [137.11215],\n",
       "       [139.27786],\n",
       "       [138.81393],\n",
       "       [139.68394],\n",
       "       [138.49222],\n",
       "       [138.60052],\n",
       "       [140.35023],\n",
       "       [143.39255],\n",
       "       [143.45583],\n",
       "       [144.1591 ],\n",
       "       [140.34277],\n",
       "       [140.21317],\n",
       "       [142.49562],\n",
       "       [143.19583],\n",
       "       [142.1851 ],\n",
       "       [139.08052],\n",
       "       [139.52922],\n",
       "       [138.5439 ],\n",
       "       [140.34529],\n",
       "       [140.37738],\n",
       "       [143.0737 ],\n",
       "       [142.1059 ],\n",
       "       [142.46399],\n",
       "       [140.45447],\n",
       "       [140.1815 ],\n",
       "       [140.18639],\n",
       "       [139.35402],\n",
       "       [139.27869],\n",
       "       [138.80663],\n",
       "       [137.5954 ],\n",
       "       [136.73058],\n",
       "       [138.07555],\n",
       "       [137.00491],\n",
       "       [135.7948 ],\n",
       "       [135.27467],\n",
       "       [134.01031],\n",
       "       [133.16965],\n",
       "       [135.64534],\n",
       "       [138.41656],\n",
       "       [139.30882],\n",
       "       [139.68501],\n",
       "       [155.37895],\n",
       "       [156.5501 ],\n",
       "       [160.19916],\n",
       "       [159.88362],\n",
       "       [162.54523],\n",
       "       [165.09515],\n",
       "       [166.02177],\n",
       "       [166.3361 ],\n",
       "       [166.8356 ],\n",
       "       [167.8243 ],\n",
       "       [168.61522],\n",
       "       [168.16208],\n",
       "       [168.10435],\n",
       "       [168.56154],\n",
       "       [163.93521],\n",
       "       [162.05818],\n",
       "       [163.42001],\n",
       "       [165.21259],\n",
       "       [166.79851],\n",
       "       [168.6771 ],\n",
       "       [167.85545],\n",
       "       [167.60526],\n",
       "       [168.60663],\n",
       "       [170.32332],\n",
       "       [170.7154 ],\n",
       "       [171.836  ],\n",
       "       [173.93102],\n",
       "       [174.9826 ],\n",
       "       [176.83963],\n",
       "       [176.48872],\n",
       "       [175.47621],\n",
       "       [176.00063],\n",
       "       [174.81967],\n",
       "       [174.22566],\n",
       "       [175.59084],\n",
       "       [176.43977],\n",
       "       [174.701  ],\n",
       "       [172.07187],\n",
       "       [169.54259],\n",
       "       [171.64865],\n",
       "       [173.16277],\n",
       "       [173.61125],\n",
       "       [173.28381],\n",
       "       [170.61713],\n",
       "       [171.49448],\n",
       "       [171.9568 ],\n",
       "       [168.48524],\n",
       "       [168.1103 ],\n",
       "       [167.50635],\n",
       "       [166.96355],\n",
       "       [166.6266 ],\n",
       "       [165.40538],\n",
       "       [168.55367],\n",
       "       [168.48993],\n",
       "       [164.40527],\n",
       "       [163.67535],\n",
       "       [162.69928],\n",
       "       [162.55551],\n",
       "       [161.70737],\n",
       "       [159.56424],\n",
       "       [160.85223],\n",
       "       [163.49754],\n",
       "       [165.71338],\n",
       "       [155.81183],\n",
       "       [154.82607],\n",
       "       [152.52423],\n",
       "       [152.31099],\n",
       "       [151.38586],\n",
       "       [153.49614],\n",
       "       [153.91187],\n",
       "       [155.96393],\n",
       "       [155.52682],\n",
       "       [158.50761],\n",
       "       [159.8063 ],\n",
       "       [157.45984],\n",
       "       [159.87112],\n",
       "       [162.55846],\n",
       "       [165.1905 ],\n",
       "       [166.4495 ],\n",
       "       [167.75229],\n",
       "       [166.65251],\n",
       "       [167.5535 ],\n",
       "       [169.8378 ],\n",
       "       [171.35464],\n",
       "       [172.00542],\n",
       "       [171.75214],\n",
       "       [170.12727],\n",
       "       [172.14159],\n",
       "       [173.99106],\n",
       "       [173.43823],\n",
       "       [174.51262],\n",
       "       [177.48851],\n",
       "       [180.01117],\n",
       "       [181.87386],\n",
       "       [178.00998],\n",
       "       [179.01778],\n",
       "       [173.63617],\n",
       "       [172.10394],\n",
       "       [173.8076 ],\n",
       "       [173.71138],\n",
       "       [176.43475],\n",
       "       [176.33348],\n",
       "       [175.6527 ],\n",
       "       [178.80199],\n",
       "       [178.32571],\n",
       "       [176.08472],\n",
       "       [174.96935],\n",
       "       [170.86853],\n",
       "       [173.68915],\n",
       "       [172.54303],\n",
       "       [171.4584 ],\n",
       "       [174.64328],\n",
       "       [175.046  ],\n",
       "       [173.75409],\n",
       "       [175.5883 ],\n",
       "       [174.63748],\n",
       "       [172.41933]], dtype=float32)"
      ]
     },
     "execution_count": 25,
     "metadata": {},
     "output_type": "execute_result"
    }
   ],
   "source": [
    "single_lstm_manager.y_pred"
   ]
  }
 ],
 "metadata": {
  "kernelspec": {
   "display_name": "Python 3 (ipykernel)",
   "language": "python",
   "name": "python3"
  },
  "language_info": {
   "codemirror_mode": {
    "name": "ipython",
    "version": 3
   },
   "file_extension": ".py",
   "mimetype": "text/x-python",
   "name": "python",
   "nbconvert_exporter": "python",
   "pygments_lexer": "ipython3",
   "version": "3.9.7"
  }
 },
 "nbformat": 4,
 "nbformat_minor": 5
}
